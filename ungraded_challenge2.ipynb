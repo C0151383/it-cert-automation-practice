{
  "nbformat": 4,
  "nbformat_minor": 0,
  "metadata": {
    "colab": {
      "name": "ungraded_challenge2.ipynb",
      "provenance": [],
      "authorship_tag": "ABX9TyPxXrKSwFmtZTLc6d0buB+F"
    },
    "kernelspec": {
      "name": "python3",
      "display_name": "Python 3"
    },
    "language_info": {
      "name": "python"
    }
  },
  "cells": [
    {
      "cell_type": "markdown",
      "source": [
        "\n",
        "Buatlah sebuah function yang dapat mengkonversi suhu dari kelvin ke celcius, dan celcius ke kelvin.\n",
        "\n",
        "▪Buatlah sebuah function yang dapat mengkonversi suhu ke fahrenheit. \n",
        "Tambahkan parameter untuk memastikan bahwa argumen yang dimasukan adalah celcius atau kelvin. Panggil function yang pertama jika diperlukan.\n",
        "\n",
        "▪Buatlah sebuah function yang dapat mengkonversi suhu dari fahrenheit. Berikan argumen untuk memastikan bahwa outputnya dalah celcius atau kelvin.\n",
        "\n",
        "▪Berikan dokumentasi pada setiap baris kode yang kalian tulis.\n",
        "\n",
        "> Indented block\n",
        "\n"
      ],
      "metadata": {
        "id": "gXOSo7a_hPPK"
      }
    },
    {
      "cell_type": "code",
      "source": [
        "# Konversi suhu ke Fahrenheit\n",
        "\n",
        "# Baca suhu dari suhu Celcius or Kelvin\n",
        "tempt = input('Ingin mengubah suhu dari kelvin atau celcius?')\n",
        "\n",
        "#Pilihan celcius atau kelvin\n",
        "if tempt == 'celcius':\n",
        "  celcius =float(input('Masukkan nilai suhu dalam celcius:'))\n",
        "  fahrenheitc = 1.8*celcius + 32 #Ubah Celcius ke Fahrenheit\n",
        "  print('%0.2f Celcius = %0.2f Fahrenheit.'% (celcius, fahrenheitc))\n",
        "elif tempt == 'kelvin':\n",
        "  kelvin =float(input('Masukkan nilai suhu dalam kelvin:'))\n",
        "  fahrenheitk = (kelvin-273.15)*1.8+32 #Ubah Kelvin ke Fahrenheit\n",
        "  print('%0.2f kelvin = %0.2f Fahrenheit.'% (kelvin, fahrenheitk))\n",
        "else :\n",
        "  print('Coba ulangi dengan inputan yang benar yaa')\n",
        "\n"
      ],
      "metadata": {
        "colab": {
          "base_uri": "https://localhost:8080/"
        },
        "id": "hiobctpThYnM",
        "outputId": "082f8b15-034d-4283-a391-1e9aa3d2cc59"
      },
      "execution_count": 1,
      "outputs": [
        {
          "output_type": "stream",
          "name": "stdout",
          "text": [
            "Ingin mengubah suhu dari kelvin atau celcius?celcius\n",
            "Masukkan nilai suhu dalam celcius:56\n",
            "56.00 Celcius = 132.80 Fahrenheit.\n"
          ]
        }
      ]
    }
  ]
}